{
 "cells": [
  {
   "cell_type": "markdown",
   "id": "d26fb288-5b40-43a1-bee9-b6caa84ab8a9",
   "metadata": {},
   "source": [
    "### Solving the Newsvendor problem via Two Stage Problems"
   ]
  },
  {
   "cell_type": "markdown",
   "id": "49ddf7c5-e46a-4614-89a0-eef0b5606ccd",
   "metadata": {},
   "source": [
    "### First Stage Problem\n",
    "$$\n",
    "\\begin{array}{rl}\n",
    "\\min_x & cx - \\mathbb{E}[R(x, D)] \\\\\n",
    "\\text{s.t} & x\\geq0\\\\\n",
    "\\end{array}\n",
    "$$\n",
    "\n",
    "### Second Stage Problem\n",
    "$$\n",
    "\\begin{array}{rrl}\n",
    "R(x,d) = &\\max_{y,z} & py + rz\\\\\n",
    "& \\text{s.t} & y\\leq d\\\\\n",
    " && y+z\\leq x\\\\\n",
    " && y,z\\geq 0\n",
    "\\end{array}\n",
    "$$\n",
    "\n",
    "### Second Stage Problem\n",
    "$$\n",
    "\\begin{array}{rrrl}\n",
    "Q(x,d)=&-R(x,d) = &\\min_{y,z} & -py - rz\\\\\n",
    "&& \\text{s.t} & y\\leq d\\\\\n",
    " &&& y+z\\leq x\\\\\n",
    " &&& y,z\\geq 0\n",
    "\\end{array}\n",
    "$$\n",
    "\n",
    "### First Stage Problem\n",
    "$$\n",
    "\\begin{array}{rl}\n",
    "\\min_x & cx +\\mathbb{E}[Q(x, D)]\\\\\n",
    "\\text{s.t} & x\\geq0\\\\\n",
    "\\end{array}\n",
    "$$"
   ]
  },
  {
   "cell_type": "code",
   "execution_count": 1,
   "id": "edc2fdf7-39cc-4a3d-a926-b0677259bf0f",
   "metadata": {},
   "outputs": [
    {
     "name": "stderr",
     "output_type": "stream",
     "text": [
      "/var/folders/wl/8s06c36n7dbf3wr2b0q2n4kh0000gn/T/ipykernel_14461/1867644048.py:2: DeprecationWarning: \n",
      "Pyarrow will become a required dependency of pandas in the next major release of pandas (pandas 3.0),\n",
      "(to allow more performant data types, such as the Arrow string type, and better interoperability with other libraries)\n",
      "but was not found to be installed on your system.\n",
      "If this would cause problems for you,\n",
      "please provide us feedback at https://github.com/pandas-dev/pandas/issues/54466\n",
      "        \n",
      "  import pandas as pd\n"
     ]
    }
   ],
   "source": [
    "import numpy as np\n",
    "import pandas as pd\n",
    "import gurobipy as gp\n",
    "import matplotlib.pyplot as plt"
   ]
  },
  {
   "cell_type": "code",
   "execution_count": 2,
   "id": "5a9060bc-52e8-48fe-9842-06248856fedf",
   "metadata": {},
   "outputs": [],
   "source": [
    "c= 10\n",
    "p=15\n",
    "r= 2"
   ]
  },
  {
   "cell_type": "code",
   "execution_count": 3,
   "id": "04f8f4b6-202b-433a-aa2c-269c1eae45f9",
   "metadata": {},
   "outputs": [],
   "source": [
    "## coding the determinic equivalent problem\n",
    "tab = pd.read_excel('data/lognormal_sample.xlsx')\n",
    "def QQ(xx,i):\n",
    "    \n",
    "    x = xx[0]\n",
    "    \n",
    "    model = gp.Model()\n",
    "    model.setParam('LogToConsole', 0)\n",
    "    t = model.addVar(lb=-10000, name='t')\n",
    "    y = model.addVar( lb=0, name='y')# second stage variable -- wait and see variable\n",
    "    z = model.addVar(lb=0, name='z')# second stage variable -- wait and see variable\n",
    "    \n",
    "    model.addConstr( y <= tab.loc[i, 'Sample'])\n",
    "    con = model.addConstr( y + z +t<= x)\n",
    "    obj =-p*y - r*z + 1000*t*t\n",
    "    model.setObjective(obj, sense=gp.GRB.MINIMIZE)\n",
    "    model.optimize()\n",
    "    return obj.getValue(), np.array([con.PI])"
   ]
  },
  {
   "cell_type": "code",
   "execution_count": 4,
   "id": "ab143d48-d3cc-4225-b1d8-eef8f584a9ce",
   "metadata": {},
   "outputs": [
    {
     "name": "stdout",
     "output_type": "stream",
     "text": [
      "Set parameter Username\n",
      "Academic license - for non-commercial use only - expires 2025-06-11\n"
     ]
    },
    {
     "data": {
      "text/plain": [
       "(-75.05624997787677, array([-15.00000001]))"
      ]
     },
     "execution_count": 4,
     "metadata": {},
     "output_type": "execute_result"
    }
   ],
   "source": [
    "QQ([5],10)"
   ]
  },
  {
   "cell_type": "code",
   "execution_count": 5,
   "id": "cf752caf-899d-443f-93e4-7a652b898525",
   "metadata": {},
   "outputs": [],
   "source": [
    "def fg(xx):\n",
    "  \n",
    "    #print(xx)\n",
    "    info = [QQ(xx, i) for i in tab.index]\n",
    "    vv ,ss = zip(*info)\n",
    "    val = c*xx[0] + sum(vv)/len(tab.index)\n",
    "    sub = c+sum(ss)/len(tab.index)\n",
    "    return val, sub"
   ]
  },
  {
   "cell_type": "code",
   "execution_count": 6,
   "id": "c45a3c8e-2575-4f3c-9d86-ac66890a1b7f",
   "metadata": {},
   "outputs": [
    {
     "data": {
      "text/plain": [
       "(-24.782421202831017, array([-4.80500007]))"
      ]
     },
     "execution_count": 6,
     "metadata": {},
     "output_type": "execute_result"
    }
   ],
   "source": [
    "fg([5])"
   ]
  },
  {
   "cell_type": "code",
   "execution_count": 7,
   "id": "03b0baf3-861e-4cd2-b011-6b955e1736fb",
   "metadata": {},
   "outputs": [],
   "source": [
    "x = np.linspace(0,60,100)\n",
    "y = [fg([xx])[0] for xx in x]"
   ]
  },
  {
   "cell_type": "code",
   "execution_count": 8,
   "id": "56870b65-c571-47f3-a26c-f908b84d3d80",
   "metadata": {},
   "outputs": [
    {
     "data": {
      "text/plain": [
       "[<matplotlib.lines.Line2D at 0x1282e68d0>]"
      ]
     },
     "execution_count": 8,
     "metadata": {},
     "output_type": "execute_result"
    },
    {
     "data": {
      "image/png": "[encoded data removed]",
      "text/plain": [
       "<Figure size 640x480 with 1 Axes>"
      ]
     },
     "metadata": {},
     "output_type": "display_data"
    }
   ],
   "source": [
    "plt.plot(x,y)"
   ]
  },
  {
   "cell_type": "code",
   "execution_count": 9,
   "id": "ae39ffc0-b92f-407b-94a9-d09f7ca841d8",
   "metadata": {},
   "outputs": [],
   "source": [
    "import pynso.proxBundle as pb\n",
    "import pynso.cuttingPlane as cp"
   ]
  },
  {
   "cell_type": "code",
   "execution_count": 10,
   "id": "dbdef767-e3a5-4a2f-a83e-466949dfed9e",
   "metadata": {},
   "outputs": [
    {
     "name": "stdout",
     "output_type": "stream",
     "text": [
      "Freeing default Gurobi environment\n",
      "No models currently loaded\n",
      "None\n",
      "disposing\n"
     ]
    }
   ],
   "source": [
    "result = cp.minimize(np.array([10]), fg=fg,lb=0, maxIter=50, globalLog='g.log',xLog='x.log')"
   ]
  },
  {
   "cell_type": "code",
   "execution_count": 11,
   "id": "b5ca35a5-fccf-4c9f-a240-172b2537a060",
   "metadata": {},
   "outputs": [
    {
     "data": {
      "text/plain": [
       "fval = -114.60689188572474\n",
       "nIter = 11\n",
       "status = 0\n",
       "time = 2.5133330821990967\n",
       "optimalityMeasure = 7.922013949723805e-06"
      ]
     },
     "execution_count": 11,
     "metadata": {},
     "output_type": "execute_result"
    }
   ],
   "source": [
    "result"
   ]
  },
  {
   "cell_type": "code",
   "execution_count": 12,
   "id": "d6442d5a-d87b-4f3b-9809-59f57a8e0fe7",
   "metadata": {},
   "outputs": [
    {
     "data": {
      "text/plain": [
       "array([40.99412491])"
      ]
     },
     "execution_count": 12,
     "metadata": {},
     "output_type": "execute_result"
    }
   ],
   "source": [
    "result.x"
   ]
  },
  {
   "cell_type": "code",
   "execution_count": 22,
   "id": "f3d87f55-1fe7-45fd-894f-117c8662c3f9",
   "metadata": {},
   "outputs": [],
   "source": [
    "x = np.linspace(0,60,100)\n",
    "y = [fg([xx])[1] for xx in x]"
   ]
  },
  {
   "cell_type": "code",
   "execution_count": 15,
   "id": "b58a89bc-818c-423b-bc94-7f87bf13e611",
   "metadata": {},
   "outputs": [
    {
     "data": {
      "text/plain": [
       "[<matplotlib.lines.Line2D at 0x11ee5a710>]"
      ]
     },
     "execution_count": 15,
     "metadata": {},
     "output_type": "execute_result"
    },
    {
     "data": {
      "image/png": "[encoded data removed]",
      "text/plain": [
       "<Figure size 640x480 with 1 Axes>"
      ]
     },
     "metadata": {},
     "output_type": "display_data"
    }
   ],
   "source": [
    "plt.plot(x,y)"
   ]
  },
  {
   "cell_type": "code",
   "execution_count": null,
   "id": "6e62b7c5-7b6c-49f9-bc68-1fa97f8da182",
   "metadata": {},
   "outputs": [],
   "source": []
  },
  {
   "cell_type": "code",
   "execution_count": null,
   "id": "d7932295-b51d-45c2-8156-45d9112e5349",
   "metadata": {},
   "outputs": [],
   "source": []
  }
 ],
 "metadata": {
  "kernelspec": {
   "display_name": "jp",
   "language": "python",
   "name": "jp"
  },
  "language_info": {
   "codemirror_mode": {
    "name": "ipython",
    "version": 3
   },
   "file_extension": ".py",
   "mimetype": "text/x-python",
   "name": "python",
   "nbconvert_exporter": "python",
   "pygments_lexer": "ipython3",
   "version": "3.11.7"
  }
 },
 "nbformat": 4,
 "nbformat_minor": 5
}

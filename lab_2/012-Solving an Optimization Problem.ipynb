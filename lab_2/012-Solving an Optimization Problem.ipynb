{
 "cells": [
  {
   "cell_type": "code",
   "execution_count": 1,
   "id": "5f38009d-1c2b-4354-bb1d-b99072c4f72d",
   "metadata": {},
   "outputs": [],
   "source": [
    "import numpy as np\n",
    "import sympy as sp"
   ]
  },
  {
   "cell_type": "markdown",
   "id": "bf8ad0f9-b35d-4b67-af58-d3e0f6756d0f",
   "metadata": {},
   "source": [
    "### Example (lab2:5)\n",
    "\n",
    "\\begin{array}{rl}\n",
    "\t\\min & x^2 + (y-1)^2\\\\\n",
    "\t\\text{s.t.} & y^2(1-x^2)=(x^2-2y-1)^2\\\\\n",
    "\\end{array}\n"
   ]
  },
  {
   "cell_type": "code",
   "execution_count": 3,
   "id": "5d47530e-d211-4232-99b2-d8a5b97ec41c",
   "metadata": {},
   "outputs": [],
   "source": [
    "x = sp.Symbol('x')\n",
    "y = sp.Symbol('y')\n",
    "l = sp.Symbol('lambda')\n",
    "f = x**2 + (y-1)**2\n",
    "h = y**2*(1-x**2)-(x**2-2*y-1)**2\n",
    "dfx = f.diff(x)\n",
    "dfy = f.diff(y)\n",
    "dhx = h.diff(x)\n",
    "dhy = h.diff(y)"
   ]
  },
  {
   "cell_type": "code",
   "execution_count": 4,
   "id": "336f6684-3102-4bdb-89ec-32d7bc24b8a9",
   "metadata": {},
   "outputs": [
    {
     "data": {
      "text/latex": [
       "$\\displaystyle - 2 x y^{2} - 4 x \\left(x^{2} - 2 y - 1\\right)$"
      ],
      "text/plain": [
       "-2*x*y**2 - 4*x*(x**2 - 2*y - 1)"
      ]
     },
     "execution_count": 4,
     "metadata": {},
     "output_type": "execute_result"
    }
   ],
   "source": [
    "dhx"
   ]
  },
  {
   "cell_type": "code",
   "execution_count": 5,
   "id": "eafe3541-01e9-439a-bdb9-202c4aad1da3",
   "metadata": {},
   "outputs": [
    {
     "data": {
      "text/latex": [
       "$\\displaystyle 4 x^{2} + 2 y \\left(1 - x^{2}\\right) - 8 y - 4$"
      ],
      "text/plain": [
       "4*x**2 + 2*y*(1 - x**2) - 8*y - 4"
      ]
     },
     "execution_count": 5,
     "metadata": {},
     "output_type": "execute_result"
    }
   ],
   "source": [
    "dhy"
   ]
  },
  {
   "cell_type": "code",
   "execution_count": 6,
   "id": "613df462-49c0-402a-97ad-c08cc23120eb",
   "metadata": {},
   "outputs": [
    {
     "data": {
      "text/plain": [
       "[(-1, 0), (0, -2/3), (1, 0), (-sqrt(5)*I, 6), (sqrt(5)*I, 6)]"
      ]
     },
     "execution_count": 6,
     "metadata": {},
     "output_type": "execute_result"
    }
   ],
   "source": [
    "res = sp.solve_poly_system([dhx, dhy])\n",
    "res"
   ]
  },
  {
   "cell_type": "code",
   "execution_count": 7,
   "id": "4fa211ed-2e2a-4feb-9c2c-574eed7a4dbe",
   "metadata": {},
   "outputs": [
    {
     "name": "stdout",
     "output_type": "stream",
     "text": [
      "0\n",
      "1/3\n",
      "0\n",
      "-108\n",
      "-108\n"
     ]
    }
   ],
   "source": [
    "for nx, ny in res:\n",
    "    print(h.subs({x:nx, y:ny}))"
   ]
  },
  {
   "cell_type": "markdown",
   "id": "c3cc7aff-9441-4b65-b23f-59a069a8b481",
   "metadata": {},
   "source": [
    "### defining the Lagrange System"
   ]
  },
  {
   "cell_type": "code",
   "execution_count": 8,
   "id": "e5462696-d8cf-4724-a490-fc10dcb0c5a5",
   "metadata": {},
   "outputs": [
    {
     "data": {
      "text/latex": [
       "$\\displaystyle \\lambda \\left(y^{2} \\cdot \\left(1 - x^{2}\\right) - \\left(x^{2} - 2 y - 1\\right)^{2}\\right) + x^{2} + \\left(y - 1\\right)^{2}$"
      ],
      "text/plain": [
       "lambda*(y**2*(1 - x**2) - (x**2 - 2*y - 1)**2) + x**2 + (y - 1)**2"
      ]
     },
     "execution_count": 8,
     "metadata": {},
     "output_type": "execute_result"
    }
   ],
   "source": [
    "L = f + l*h\n",
    "L"
   ]
  },
  {
   "cell_type": "code",
   "execution_count": 9,
   "id": "12c2a03d-a1f3-4046-8346-142a80fa58e9",
   "metadata": {},
   "outputs": [],
   "source": [
    "kkt  = [L.diff(z) for z in [x,y,l]]"
   ]
  },
  {
   "cell_type": "code",
   "execution_count": 10,
   "id": "2b968c71-92c5-4d13-9cfa-556eaad9ca4e",
   "metadata": {},
   "outputs": [
    {
     "data": {
      "text/latex": [
       "$\\displaystyle \\lambda \\left(- 2 x y^{2} - 4 x \\left(x^{2} - 2 y - 1\\right)\\right) + 2 x$"
      ],
      "text/plain": [
       "lambda*(-2*x*y**2 - 4*x*(x**2 - 2*y - 1)) + 2*x"
      ]
     },
     "execution_count": 10,
     "metadata": {},
     "output_type": "execute_result"
    }
   ],
   "source": [
    "kkt[0]"
   ]
  },
  {
   "cell_type": "code",
   "execution_count": 11,
   "id": "40e22755-d8a3-4ce2-b260-b65f12991a29",
   "metadata": {},
   "outputs": [
    {
     "data": {
      "text/latex": [
       "$\\displaystyle \\lambda \\left(4 x^{2} + 2 y \\left(1 - x^{2}\\right) - 8 y - 4\\right) + 2 y - 2$"
      ],
      "text/plain": [
       "lambda*(4*x**2 + 2*y*(1 - x**2) - 8*y - 4) + 2*y - 2"
      ]
     },
     "execution_count": 11,
     "metadata": {},
     "output_type": "execute_result"
    }
   ],
   "source": [
    "kkt[1]"
   ]
  },
  {
   "cell_type": "code",
   "execution_count": 12,
   "id": "24984226-f871-44e6-b8a1-2234893bb10b",
   "metadata": {},
   "outputs": [
    {
     "data": {
      "text/latex": [
       "$\\displaystyle y^{2} \\cdot \\left(1 - x^{2}\\right) - \\left(x^{2} - 2 y - 1\\right)^{2}$"
      ],
      "text/plain": [
       "y**2*(1 - x**2) - (x**2 - 2*y - 1)**2"
      ]
     },
     "execution_count": 12,
     "metadata": {},
     "output_type": "execute_result"
    }
   ],
   "source": [
    "kkt[2]"
   ]
  },
  {
   "cell_type": "code",
   "execution_count": 13,
   "id": "84c6b4f7-7bee-412f-bcca-df0ac63b162f",
   "metadata": {},
   "outputs": [],
   "source": [
    "kktRes = sp.solve_poly_system(kkt)"
   ]
  },
  {
   "cell_type": "code",
   "execution_count": 14,
   "id": "8a721084-243e-4738-981a-d178d1fb1e9a",
   "metadata": {},
   "outputs": [
    {
     "data": {
      "text/plain": [
       "[(0, -1, 2), (0, -1/3, -4/3), (-sqrt(35)*I, 9, -1/27), (sqrt(35)*I, 9, -1/27)]"
      ]
     },
     "execution_count": 14,
     "metadata": {},
     "output_type": "execute_result"
    }
   ],
   "source": [
    "kktRes"
   ]
  },
  {
   "cell_type": "code",
   "execution_count": 15,
   "id": "5773d511-6594-4e4b-8972-d305e38fa5f1",
   "metadata": {},
   "outputs": [
    {
     "data": {
      "text/latex": [
       "$\\displaystyle - \\sqrt{35} i$"
      ],
      "text/plain": [
       "-sqrt(35)*I"
      ]
     },
     "execution_count": 15,
     "metadata": {},
     "output_type": "execute_result"
    }
   ],
   "source": [
    "kktRes[2][0]"
   ]
  },
  {
   "cell_type": "code",
   "execution_count": 16,
   "id": "7d71590e-bef4-4f14-b9fd-e2b110beaa4a",
   "metadata": {},
   "outputs": [
    {
     "name": "stdout",
     "output_type": "stream",
     "text": [
      "2\n",
      "2\n",
      "4\n",
      "1.77777777777778\n"
     ]
    }
   ],
   "source": [
    "for sx,sy in ([(-1, 0), (1, 0), (0, -1), (0, -1/3)]):\n",
    "    print(f.subs({x:sx, y: sy}))"
   ]
  },
  {
   "cell_type": "markdown",
   "id": "91d86246-5670-4be2-8822-8171804e0d76",
   "metadata": {},
   "source": [
    "### Example (lab2:6)\n",
    "\n",
    "\\begin{array}{rl}\n",
    "\t\\min & (x-2)^2 + (y-1)^2\\\\\n",
    "\t\\text{s.t.} & y^2(1-x^2)=(x^2-2y-1)^2\\\\\n",
    "\\end{array}\n"
   ]
  },
  {
   "cell_type": "code",
   "execution_count": 2,
   "id": "af00c5dd-415d-4788-a6f9-9acd01160edd",
   "metadata": {},
   "outputs": [],
   "source": [
    "x = sp.Symbol('x')\n",
    "y = sp.Symbol('y')\n",
    "l = sp.Symbol('lambda')\n",
    "f = (x-2)**2 + (y-1)**2\n",
    "h = y**2*(1-x**2)-(x**2-2*y-1)**2\n",
    "dfx = f.diff(x)\n",
    "dfy = f.diff(y)\n",
    "dhx = h.diff(x)\n",
    "dhy = h.diff(y)"
   ]
  },
  {
   "cell_type": "code",
   "execution_count": 3,
   "id": "651ab1e7",
   "metadata": {},
   "outputs": [
    {
     "data": {
      "text/latex": [
       "$\\displaystyle \\left(x - 2\\right)^{2} + \\left(y - 1\\right)^{2}$"
      ],
      "text/plain": [
       "(x - 2)**2 + (y - 1)**2"
      ]
     },
     "execution_count": 3,
     "metadata": {},
     "output_type": "execute_result"
    }
   ],
   "source": [
    "f"
   ]
  },
  {
   "cell_type": "code",
   "execution_count": 4,
   "id": "26345126",
   "metadata": {},
   "outputs": [
    {
     "data": {
      "text/latex": [
       "$\\displaystyle y^{2} \\cdot \\left(1 - x^{2}\\right) - \\left(x^{2} - 2 y - 1\\right)^{2}$"
      ],
      "text/plain": [
       "y**2*(1 - x**2) - (x**2 - 2*y - 1)**2"
      ]
     },
     "execution_count": 4,
     "metadata": {},
     "output_type": "execute_result"
    }
   ],
   "source": [
    "h"
   ]
  },
  {
   "cell_type": "code",
   "execution_count": null,
   "id": "80943800",
   "metadata": {},
   "outputs": [
    {
     "data": {
      "text/plain": [
       "[(-1, 0), (0, -2/3), (1, 0), (-sqrt(5)*I, 6), (sqrt(5)*I, 6)]"
      ]
     },
     "execution_count": 11,
     "metadata": {},
     "output_type": "execute_result"
    }
   ],
   "source": [
    "res = sp.solve_poly_system([dhx, dhy]) # onde que kkt poderia não funcionar?\n",
    "res"
   ]
  },
  {
   "cell_type": "code",
   "execution_count": null,
   "id": "72a85cc5",
   "metadata": {},
   "outputs": [
    {
     "name": "stdout",
     "output_type": "stream",
     "text": [
      "0\n",
      "1/3\n",
      "0\n",
      "-108\n",
      "-108\n"
     ]
    }
   ],
   "source": [
    "# verify the constraint \n",
    "for nx, ny in res:\n",
    "    print(h.subs({x:nx, y:ny}))"
   ]
  },
  {
   "cell_type": "code",
   "execution_count": 5,
   "id": "5c49e3ab",
   "metadata": {},
   "outputs": [
    {
     "data": {
      "text/latex": [
       "$\\displaystyle \\lambda \\left(y^{2} \\cdot \\left(1 - x^{2}\\right) - \\left(x^{2} - 2 y - 1\\right)^{2}\\right) + \\left(x - 2\\right)^{2} + \\left(y - 1\\right)^{2}$"
      ],
      "text/plain": [
       "lambda*(y**2*(1 - x**2) - (x**2 - 2*y - 1)**2) + (x - 2)**2 + (y - 1)**2"
      ]
     },
     "execution_count": 5,
     "metadata": {},
     "output_type": "execute_result"
    }
   ],
   "source": [
    "#Defining the Lagrangian System\n",
    "L = f + l*h\n",
    "L"
   ]
  },
  {
   "cell_type": "code",
   "execution_count": 10,
   "id": "786f9693",
   "metadata": {},
   "outputs": [
    {
     "data": {
      "text/plain": [
       "[lambda*(-2*x*y**2 - 4*x*(x**2 - 2*y - 1)) + 2*x - 4,\n",
       " lambda*(4*x**2 + 2*y*(1 - x**2) - 8*y - 4) + 2*y - 2,\n",
       " y**2*(1 - x**2) - (x**2 - 2*y - 1)**2]"
      ]
     },
     "execution_count": 10,
     "metadata": {},
     "output_type": "execute_result"
    }
   ],
   "source": [
    "kkt  = [L.diff(z) for z in [x,y,l]]\n",
    "kkt"
   ]
  },
  {
   "cell_type": "code",
   "execution_count": 7,
   "id": "bc516a76",
   "metadata": {},
   "outputs": [
    {
     "data": {
      "text/latex": [
       "$\\displaystyle \\lambda \\left(- 2 x y^{2} - 4 x \\left(x^{2} - 2 y - 1\\right)\\right) + 2 x - 4$"
      ],
      "text/plain": [
       "lambda*(-2*x*y**2 - 4*x*(x**2 - 2*y - 1)) + 2*x - 4"
      ]
     },
     "execution_count": 7,
     "metadata": {},
     "output_type": "execute_result"
    }
   ],
   "source": [
    "kkt[0]"
   ]
  },
  {
   "cell_type": "code",
   "execution_count": 8,
   "id": "a0d1636e",
   "metadata": {},
   "outputs": [
    {
     "data": {
      "text/latex": [
       "$\\displaystyle \\lambda \\left(4 x^{2} + 2 y \\left(1 - x^{2}\\right) - 8 y - 4\\right) + 2 y - 2$"
      ],
      "text/plain": [
       "lambda*(4*x**2 + 2*y*(1 - x**2) - 8*y - 4) + 2*y - 2"
      ]
     },
     "execution_count": 8,
     "metadata": {},
     "output_type": "execute_result"
    }
   ],
   "source": [
    "kkt[1]"
   ]
  },
  {
   "cell_type": "code",
   "execution_count": 9,
   "id": "f1cce800",
   "metadata": {},
   "outputs": [
    {
     "data": {
      "text/plain": [
       "[]"
      ]
     },
     "execution_count": 9,
     "metadata": {},
     "output_type": "execute_result"
    }
   ],
   "source": [
    "kktRes = sp.solve_poly_system(kkt)\n",
    "kktRes"
   ]
  },
  {
   "cell_type": "markdown",
   "id": "36603cae",
   "metadata": {},
   "source": [
    "Neste caso, kkt não conseguiu encontrar os pontos estacionário, mas não quer dizer que eles não existam. Pois não temos condições de regularidade. "
   ]
  },
  {
   "cell_type": "code",
   "execution_count": null,
   "id": "8b93f81b",
   "metadata": {},
   "outputs": [],
   "source": []
  }
 ],
 "metadata": {
  "kernelspec": {
   "display_name": "Python 3",
   "language": "python",
   "name": "python3"
  },
  "language_info": {
   "codemirror_mode": {
    "name": "ipython",
    "version": 3
   },
   "file_extension": ".py",
   "mimetype": "text/x-python",
   "name": "python",
   "nbconvert_exporter": "python",
   "pygments_lexer": "ipython3",
   "version": "3.12.3"
  }
 },
 "nbformat": 4,
 "nbformat_minor": 5
}
